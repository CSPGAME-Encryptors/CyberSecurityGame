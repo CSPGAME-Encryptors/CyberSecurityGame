{
 "cells": [
  {
   "cell_type": "raw",
   "id": "2d7868cb",
   "metadata": {
    "vscode": {
     "languageId": "raw"
    }
   },
   "source": [
    "---\n",
    "layout: post \n",
    "title: Cyber Security Quest\n",
    "description: Making a secure database and stuff\n",
    "permalink: /digital_famine/cyber-security\n",
    "comments: false\n",
    "author: 67 Kid\n",
    "---"
   ]
  },
  {
   "cell_type": "markdown",
   "id": "96ca1069",
   "metadata": {},
   "source": []
  }
 ],
 "metadata": {
  "language_info": {
   "name": "python"
  }
 },
 "nbformat": 4,
 "nbformat_minor": 5
}
